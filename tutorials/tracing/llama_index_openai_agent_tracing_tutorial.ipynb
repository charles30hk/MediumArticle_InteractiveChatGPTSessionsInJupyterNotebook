{
  "cells": [
    {
      "cell_type": "markdown",
      "metadata": {
        "pycharm": {
          "name": "#%% md\n"
        },
        "id": "luGWcV99eWNr"
      },
      "source": [
        "<center>\n",
        "    <p style=\"text-align:center\">\n",
        "        <img alt=\"phoenix logo\" src=\"https://storage.googleapis.com/arize-assets/phoenix/assets/phoenix-logo-light.svg\" width=\"200\"/>\n",
        "        <br>\n",
        "        <a href=\"https://docs.arize.com/phoenix/\">Docs</a>\n",
        "        |\n",
        "        <a href=\"https://github.com/Arize-ai/phoenix\">GitHub</a>\n",
        "        |\n",
        "        <a href=\"https://join.slack.com/t/arize-ai/shared_invite/zt-1px8dcmlf-fmThhDFD_V_48oU7ALan4Q\">Community</a>\n",
        "    </p>\n",
        "</center>\n",
        "<h1 align=\"center\">Tracing and Evaluating a LlamaIndex OpenAI Agent Application</h1>\n",
        "\n",
        "With the new OpenAI API that supports function calling, it’s never been easier to build your own agent.\n",
        "\n",
        "In this notebook tutorial, we showcase how to write your own OpenAI agent in under 50 lines of code and use Phoenix to inspect the internals of the Agent. It is minimal, yet feature complete (with ability to carry on a conversation and use tools)."
      ]
    },
    {
      "cell_type": "markdown",
      "metadata": {
        "pycharm": {
          "name": "#%% md\n"
        },
        "id": "moQgJy-GeWN6"
      },
      "source": [
        "Install LlamaIndex and other dependencies."
      ]
    },
    {
      "cell_type": "code",
      "execution_count": 1,
      "metadata": {
        "id": "y4py_jNbeWN8",
        "outputId": "f2914f71-f3ec-4445-f85b-a778102fcb56",
        "colab": {
          "base_uri": "https://localhost:8080/"
        }
      },
      "outputs": [
        {
          "output_type": "stream",
          "name": "stdout",
          "text": [
            "Collecting openai>=1\n",
            "  Downloading openai-1.6.0-py3-none-any.whl (225 kB)\n",
            "\u001b[2K     \u001b[90m━━━━━━━━━━━━━━━━━━━━━━━━━━━━━━━━━━━━━━━━\u001b[0m \u001b[32m225.4/225.4 kB\u001b[0m \u001b[31m3.7 MB/s\u001b[0m eta \u001b[36m0:00:00\u001b[0m\n",
            "\u001b[?25hCollecting arize-phoenix[llama-index]\n",
            "  Downloading arize_phoenix-1.9.0-py3-none-any.whl (1.2 MB)\n",
            "\u001b[2K     \u001b[90m━━━━━━━━━━━━━━━━━━━━━━━━━━━━━━━━━━━━━━━━\u001b[0m \u001b[32m1.2/1.2 MB\u001b[0m \u001b[31m8.7 MB/s\u001b[0m eta \u001b[36m0:00:00\u001b[0m\n",
            "\u001b[?25hRequirement already satisfied: anyio<5,>=3.5.0 in /usr/local/lib/python3.10/dist-packages (from openai>=1) (3.7.1)\n",
            "Requirement already satisfied: distro<2,>=1.7.0 in /usr/lib/python3/dist-packages (from openai>=1) (1.7.0)\n",
            "Collecting httpx<1,>=0.23.0 (from openai>=1)\n",
            "  Downloading httpx-0.25.2-py3-none-any.whl (74 kB)\n",
            "\u001b[2K     \u001b[90m━━━━━━━━━━━━━━━━━━━━━━━━━━━━━━━━━━━━━━━━\u001b[0m \u001b[32m75.0/75.0 kB\u001b[0m \u001b[31m7.4 MB/s\u001b[0m eta \u001b[36m0:00:00\u001b[0m\n",
            "\u001b[?25hRequirement already satisfied: pydantic<3,>=1.9.0 in /usr/local/lib/python3.10/dist-packages (from openai>=1) (1.10.13)\n",
            "Requirement already satisfied: sniffio in /usr/local/lib/python3.10/dist-packages (from openai>=1) (1.3.0)\n",
            "Requirement already satisfied: tqdm>4 in /usr/local/lib/python3.10/dist-packages (from openai>=1) (4.66.1)\n",
            "Collecting typing-extensions<5,>=4.7 (from openai>=1)\n",
            "  Downloading typing_extensions-4.9.0-py3-none-any.whl (32 kB)\n",
            "Collecting ddsketch (from arize-phoenix[llama-index])\n",
            "  Downloading ddsketch-2.0.4-py3-none-any.whl (18 kB)\n",
            "Collecting hdbscan<1.0.0,>=0.8.33 (from arize-phoenix[llama-index])\n",
            "  Downloading hdbscan-0.8.33.tar.gz (5.2 MB)\n",
            "\u001b[2K     \u001b[90m━━━━━━━━━━━━━━━━━━━━━━━━━━━━━━━━━━━━━━━━\u001b[0m \u001b[32m5.2/5.2 MB\u001b[0m \u001b[31m23.3 MB/s\u001b[0m eta \u001b[36m0:00:00\u001b[0m\n",
            "\u001b[?25h  Installing build dependencies ... \u001b[?25l\u001b[?25hdone\n",
            "  Getting requirements to build wheel ... \u001b[?25l\u001b[?25hdone\n",
            "  Preparing metadata (pyproject.toml) ... \u001b[?25l\u001b[?25hdone\n",
            "Requirement already satisfied: jinja2 in /usr/local/lib/python3.10/dist-packages (from arize-phoenix[llama-index]) (3.1.2)\n",
            "Requirement already satisfied: numpy in /usr/local/lib/python3.10/dist-packages (from arize-phoenix[llama-index]) (1.23.5)\n",
            "Requirement already satisfied: pandas in /usr/local/lib/python3.10/dist-packages (from arize-phoenix[llama-index]) (1.5.3)\n",
            "Requirement already satisfied: protobuf<5.0,>=3.20 in /usr/local/lib/python3.10/dist-packages (from arize-phoenix[llama-index]) (3.20.3)\n",
            "Requirement already satisfied: psutil in /usr/local/lib/python3.10/dist-packages (from arize-phoenix[llama-index]) (5.9.5)\n",
            "Requirement already satisfied: pyarrow in /usr/local/lib/python3.10/dist-packages (from arize-phoenix[llama-index]) (10.0.1)\n",
            "Requirement already satisfied: requests in /usr/local/lib/python3.10/dist-packages (from arize-phoenix[llama-index]) (2.31.0)\n",
            "Requirement already satisfied: scikit-learn<1.3.0 in /usr/local/lib/python3.10/dist-packages (from arize-phoenix[llama-index]) (1.2.2)\n",
            "Requirement already satisfied: scipy in /usr/local/lib/python3.10/dist-packages (from arize-phoenix[llama-index]) (1.11.4)\n",
            "Requirement already satisfied: sortedcontainers in /usr/local/lib/python3.10/dist-packages (from arize-phoenix[llama-index]) (2.4.0)\n",
            "Collecting starlette (from arize-phoenix[llama-index])\n",
            "  Downloading starlette-0.34.0-py3-none-any.whl (70 kB)\n",
            "\u001b[2K     \u001b[90m━━━━━━━━━━━━━━━━━━━━━━━━━━━━━━━━━━━━━━━━\u001b[0m \u001b[32m70.3/70.3 kB\u001b[0m \u001b[31m12.4 MB/s\u001b[0m eta \u001b[36m0:00:00\u001b[0m\n",
            "\u001b[?25hCollecting strawberry-graphql==0.208.2 (from arize-phoenix[llama-index])\n",
            "  Downloading strawberry_graphql-0.208.2-py3-none-any.whl (269 kB)\n",
            "\u001b[2K     \u001b[90m━━━━━━━━━━━━━━━━━━━━━━━━━━━━━━━━━━━━━━━━\u001b[0m \u001b[32m269.0/269.0 kB\u001b[0m \u001b[31m36.5 MB/s\u001b[0m eta \u001b[36m0:00:00\u001b[0m\n",
            "\u001b[?25hCollecting umap-learn (from arize-phoenix[llama-index])\n",
            "  Downloading umap-learn-0.5.5.tar.gz (90 kB)\n",
            "\u001b[2K     \u001b[90m━━━━━━━━━━━━━━━━━━━━━━━━━━━━━━━━━━━━━━━━\u001b[0m \u001b[32m90.9/90.9 kB\u001b[0m \u001b[31m10.5 MB/s\u001b[0m eta \u001b[36m0:00:00\u001b[0m\n",
            "\u001b[?25h  Preparing metadata (setup.py) ... \u001b[?25l\u001b[?25hdone\n",
            "Collecting uvicorn (from arize-phoenix[llama-index])\n",
            "  Downloading uvicorn-0.24.0.post1-py3-none-any.whl (59 kB)\n",
            "\u001b[2K     \u001b[90m━━━━━━━━━━━━━━━━━━━━━━━━━━━━━━━━━━━━━━━━\u001b[0m \u001b[32m59.7/59.7 kB\u001b[0m \u001b[31m11.3 MB/s\u001b[0m eta \u001b[36m0:00:00\u001b[0m\n",
            "\u001b[?25hRequirement already satisfied: wrapt in /usr/local/lib/python3.10/dist-packages (from arize-phoenix[llama-index]) (1.14.1)\n",
            "Collecting llama-index<0.9.14,>=0.9.8 (from arize-phoenix[llama-index])\n",
            "  Downloading llama_index-0.9.13-py3-none-any.whl (929 kB)\n",
            "\u001b[2K     \u001b[90m━━━━━━━━━━━━━━━━━━━━━━━━━━━━━━━━━━━━━━━━\u001b[0m \u001b[32m929.3/929.3 kB\u001b[0m \u001b[31m29.1 MB/s\u001b[0m eta \u001b[36m0:00:00\u001b[0m\n",
            "\u001b[?25hCollecting graphql-core<3.3.0,>=3.2.0 (from strawberry-graphql==0.208.2->arize-phoenix[llama-index])\n",
            "  Downloading graphql_core-3.2.3-py3-none-any.whl (202 kB)\n",
            "\u001b[2K     \u001b[90m━━━━━━━━━━━━━━━━━━━━━━━━━━━━━━━━━━━━━━━━\u001b[0m \u001b[32m202.9/202.9 kB\u001b[0m \u001b[31m32.8 MB/s\u001b[0m eta \u001b[36m0:00:00\u001b[0m\n",
            "\u001b[?25hRequirement already satisfied: python-dateutil<3.0.0,>=2.7.0 in /usr/local/lib/python3.10/dist-packages (from strawberry-graphql==0.208.2->arize-phoenix[llama-index]) (2.8.2)\n",
            "Requirement already satisfied: idna>=2.8 in /usr/local/lib/python3.10/dist-packages (from anyio<5,>=3.5.0->openai>=1) (3.6)\n",
            "Requirement already satisfied: exceptiongroup in /usr/local/lib/python3.10/dist-packages (from anyio<5,>=3.5.0->openai>=1) (1.2.0)\n",
            "Collecting cython<3,>=0.27 (from hdbscan<1.0.0,>=0.8.33->arize-phoenix[llama-index])\n",
            "  Using cached Cython-0.29.37-cp310-cp310-manylinux_2_17_x86_64.manylinux2014_x86_64.manylinux_2_24_x86_64.whl (1.9 MB)\n",
            "Requirement already satisfied: joblib>=1.0 in /usr/local/lib/python3.10/dist-packages (from hdbscan<1.0.0,>=0.8.33->arize-phoenix[llama-index]) (1.3.2)\n",
            "Requirement already satisfied: certifi in /usr/local/lib/python3.10/dist-packages (from httpx<1,>=0.23.0->openai>=1) (2023.11.17)\n",
            "Collecting httpcore==1.* (from httpx<1,>=0.23.0->openai>=1)\n",
            "  Downloading httpcore-1.0.2-py3-none-any.whl (76 kB)\n",
            "\u001b[2K     \u001b[90m━━━━━━━━━━━━━━━━━━━━━━━━━━━━━━━━━━━━━━━━\u001b[0m \u001b[32m76.9/76.9 kB\u001b[0m \u001b[31m9.4 MB/s\u001b[0m eta \u001b[36m0:00:00\u001b[0m\n",
            "\u001b[?25hCollecting h11<0.15,>=0.13 (from httpcore==1.*->httpx<1,>=0.23.0->openai>=1)\n",
            "  Downloading h11-0.14.0-py3-none-any.whl (58 kB)\n",
            "\u001b[2K     \u001b[90m━━━━━━━━━━━━━━━━━━━━━━━━━━━━━━━━━━━━━━━━\u001b[0m \u001b[32m58.3/58.3 kB\u001b[0m \u001b[31m10.2 MB/s\u001b[0m eta \u001b[36m0:00:00\u001b[0m\n",
            "\u001b[?25hRequirement already satisfied: SQLAlchemy[asyncio]>=1.4.49 in /usr/local/lib/python3.10/dist-packages (from llama-index<0.9.14,>=0.9.8->arize-phoenix[llama-index]) (2.0.23)\n",
            "Requirement already satisfied: aiohttp<4.0.0,>=3.8.6 in /usr/local/lib/python3.10/dist-packages (from llama-index<0.9.14,>=0.9.8->arize-phoenix[llama-index]) (3.9.1)\n",
            "Collecting aiostream<0.6.0,>=0.5.2 (from llama-index<0.9.14,>=0.9.8->arize-phoenix[llama-index])\n",
            "  Downloading aiostream-0.5.2-py3-none-any.whl (39 kB)\n",
            "Collecting beautifulsoup4<5.0.0,>=4.12.2 (from llama-index<0.9.14,>=0.9.8->arize-phoenix[llama-index])\n",
            "  Downloading beautifulsoup4-4.12.2-py3-none-any.whl (142 kB)\n",
            "\u001b[2K     \u001b[90m━━━━━━━━━━━━━━━━━━━━━━━━━━━━━━━━━━━━━━━━\u001b[0m \u001b[32m143.0/143.0 kB\u001b[0m \u001b[31m22.5 MB/s\u001b[0m eta \u001b[36m0:00:00\u001b[0m\n",
            "\u001b[?25hCollecting dataclasses-json (from llama-index<0.9.14,>=0.9.8->arize-phoenix[llama-index])\n",
            "  Downloading dataclasses_json-0.6.3-py3-none-any.whl (28 kB)\n",
            "Collecting deprecated>=1.2.9.3 (from llama-index<0.9.14,>=0.9.8->arize-phoenix[llama-index])\n",
            "  Downloading Deprecated-1.2.14-py2.py3-none-any.whl (9.6 kB)\n",
            "Requirement already satisfied: fsspec>=2023.5.0 in /usr/local/lib/python3.10/dist-packages (from llama-index<0.9.14,>=0.9.8->arize-phoenix[llama-index]) (2023.6.0)\n",
            "Requirement already satisfied: nest-asyncio<2.0.0,>=1.5.8 in /usr/local/lib/python3.10/dist-packages (from llama-index<0.9.14,>=0.9.8->arize-phoenix[llama-index]) (1.5.8)\n",
            "Requirement already satisfied: nltk<4.0.0,>=3.8.1 in /usr/local/lib/python3.10/dist-packages (from llama-index<0.9.14,>=0.9.8->arize-phoenix[llama-index]) (3.8.1)\n",
            "Requirement already satisfied: tenacity<9.0.0,>=8.2.0 in /usr/local/lib/python3.10/dist-packages (from llama-index<0.9.14,>=0.9.8->arize-phoenix[llama-index]) (8.2.3)\n",
            "Collecting tiktoken>=0.3.3 (from llama-index<0.9.14,>=0.9.8->arize-phoenix[llama-index])\n",
            "  Downloading tiktoken-0.5.2-cp310-cp310-manylinux_2_17_x86_64.manylinux2014_x86_64.whl (2.0 MB)\n",
            "\u001b[2K     \u001b[90m━━━━━━━━━━━━━━━━━━━━━━━━━━━━━━━━━━━━━━━━\u001b[0m \u001b[32m2.0/2.0 MB\u001b[0m \u001b[31m44.0 MB/s\u001b[0m eta \u001b[36m0:00:00\u001b[0m\n",
            "\u001b[?25hCollecting typing-inspect>=0.8.0 (from llama-index<0.9.14,>=0.9.8->arize-phoenix[llama-index])\n",
            "  Downloading typing_inspect-0.9.0-py3-none-any.whl (8.8 kB)\n",
            "Requirement already satisfied: charset-normalizer<4,>=2 in /usr/local/lib/python3.10/dist-packages (from requests->arize-phoenix[llama-index]) (3.3.2)\n",
            "Requirement already satisfied: urllib3<3,>=1.21.1 in /usr/local/lib/python3.10/dist-packages (from requests->arize-phoenix[llama-index]) (2.0.7)\n",
            "Requirement already satisfied: threadpoolctl>=2.0.0 in /usr/local/lib/python3.10/dist-packages (from scikit-learn<1.3.0->arize-phoenix[llama-index]) (3.2.0)\n",
            "Requirement already satisfied: six in /usr/local/lib/python3.10/dist-packages (from ddsketch->arize-phoenix[llama-index]) (1.16.0)\n",
            "Requirement already satisfied: MarkupSafe>=2.0 in /usr/local/lib/python3.10/dist-packages (from jinja2->arize-phoenix[llama-index]) (2.1.3)\n",
            "Requirement already satisfied: pytz>=2020.1 in /usr/local/lib/python3.10/dist-packages (from pandas->arize-phoenix[llama-index]) (2023.3.post1)\n",
            "Requirement already satisfied: numba>=0.51.2 in /usr/local/lib/python3.10/dist-packages (from umap-learn->arize-phoenix[llama-index]) (0.58.1)\n",
            "Collecting pynndescent>=0.5 (from umap-learn->arize-phoenix[llama-index])\n",
            "  Downloading pynndescent-0.5.11-py3-none-any.whl (55 kB)\n",
            "\u001b[2K     \u001b[90m━━━━━━━━━━━━━━━━━━━━━━━━━━━━━━━━━━━━━━━━\u001b[0m \u001b[32m55.8/55.8 kB\u001b[0m \u001b[31m8.6 MB/s\u001b[0m eta \u001b[36m0:00:00\u001b[0m\n",
            "\u001b[?25hRequirement already satisfied: click>=7.0 in /usr/local/lib/python3.10/dist-packages (from uvicorn->arize-phoenix[llama-index]) (8.1.7)\n",
            "Requirement already satisfied: attrs>=17.3.0 in /usr/local/lib/python3.10/dist-packages (from aiohttp<4.0.0,>=3.8.6->llama-index<0.9.14,>=0.9.8->arize-phoenix[llama-index]) (23.1.0)\n",
            "Requirement already satisfied: multidict<7.0,>=4.5 in /usr/local/lib/python3.10/dist-packages (from aiohttp<4.0.0,>=3.8.6->llama-index<0.9.14,>=0.9.8->arize-phoenix[llama-index]) (6.0.4)\n",
            "Requirement already satisfied: yarl<2.0,>=1.0 in /usr/local/lib/python3.10/dist-packages (from aiohttp<4.0.0,>=3.8.6->llama-index<0.9.14,>=0.9.8->arize-phoenix[llama-index]) (1.9.4)\n",
            "Requirement already satisfied: frozenlist>=1.1.1 in /usr/local/lib/python3.10/dist-packages (from aiohttp<4.0.0,>=3.8.6->llama-index<0.9.14,>=0.9.8->arize-phoenix[llama-index]) (1.4.0)\n",
            "Requirement already satisfied: aiosignal>=1.1.2 in /usr/local/lib/python3.10/dist-packages (from aiohttp<4.0.0,>=3.8.6->llama-index<0.9.14,>=0.9.8->arize-phoenix[llama-index]) (1.3.1)\n",
            "Requirement already satisfied: async-timeout<5.0,>=4.0 in /usr/local/lib/python3.10/dist-packages (from aiohttp<4.0.0,>=3.8.6->llama-index<0.9.14,>=0.9.8->arize-phoenix[llama-index]) (4.0.3)\n",
            "Requirement already satisfied: soupsieve>1.2 in /usr/local/lib/python3.10/dist-packages (from beautifulsoup4<5.0.0,>=4.12.2->llama-index<0.9.14,>=0.9.8->arize-phoenix[llama-index]) (2.5)\n",
            "Requirement already satisfied: regex>=2021.8.3 in /usr/local/lib/python3.10/dist-packages (from nltk<4.0.0,>=3.8.1->llama-index<0.9.14,>=0.9.8->arize-phoenix[llama-index]) (2023.6.3)\n",
            "Requirement already satisfied: llvmlite<0.42,>=0.41.0dev0 in /usr/local/lib/python3.10/dist-packages (from numba>=0.51.2->umap-learn->arize-phoenix[llama-index]) (0.41.1)\n",
            "Requirement already satisfied: greenlet!=0.4.17 in /usr/local/lib/python3.10/dist-packages (from SQLAlchemy[asyncio]>=1.4.49->llama-index<0.9.14,>=0.9.8->arize-phoenix[llama-index]) (3.0.2)\n",
            "Collecting mypy-extensions>=0.3.0 (from typing-inspect>=0.8.0->llama-index<0.9.14,>=0.9.8->arize-phoenix[llama-index])\n",
            "  Downloading mypy_extensions-1.0.0-py3-none-any.whl (4.7 kB)\n",
            "Collecting marshmallow<4.0.0,>=3.18.0 (from dataclasses-json->llama-index<0.9.14,>=0.9.8->arize-phoenix[llama-index])\n",
            "  Downloading marshmallow-3.20.1-py3-none-any.whl (49 kB)\n",
            "\u001b[2K     \u001b[90m━━━━━━━━━━━━━━━━━━━━━━━━━━━━━━━━━━━━━━━━\u001b[0m \u001b[32m49.4/49.4 kB\u001b[0m \u001b[31m8.3 MB/s\u001b[0m eta \u001b[36m0:00:00\u001b[0m\n",
            "\u001b[?25hRequirement already satisfied: packaging>=17.0 in /usr/local/lib/python3.10/dist-packages (from marshmallow<4.0.0,>=3.18.0->dataclasses-json->llama-index<0.9.14,>=0.9.8->arize-phoenix[llama-index]) (23.2)\n",
            "Building wheels for collected packages: hdbscan, umap-learn\n",
            "  Building wheel for hdbscan (pyproject.toml) ... \u001b[?25l\u001b[?25hdone\n",
            "  Created wheel for hdbscan: filename=hdbscan-0.8.33-cp310-cp310-linux_x86_64.whl size=3039273 sha256=9c53cb985739948eeb5fe78aaf0e4cf47490dd2bd13129716705d8f90881c225\n",
            "  Stored in directory: /root/.cache/pip/wheels/75/0b/3b/dc4f60b7cc455efaefb62883a7483e76f09d06ca81cf87d610\n",
            "  Building wheel for umap-learn (setup.py) ... \u001b[?25l\u001b[?25hdone\n",
            "  Created wheel for umap-learn: filename=umap_learn-0.5.5-py3-none-any.whl size=86832 sha256=de47dc0fdfb0c00f2cbdd54c50fa27c87c50a21590d98ce4c0a327e5b5b2848a\n",
            "  Stored in directory: /root/.cache/pip/wheels/3a/70/07/428d2b58660a1a3b431db59b806a10da736612ebbc66c1bcc5\n",
            "Successfully built hdbscan umap-learn\n",
            "Installing collected packages: typing-extensions, mypy-extensions, marshmallow, h11, graphql-core, deprecated, ddsketch, cython, beautifulsoup4, uvicorn, typing-inspect, tiktoken, strawberry-graphql, starlette, httpcore, aiostream, pynndescent, httpx, hdbscan, dataclasses-json, umap-learn, openai, llama-index, arize-phoenix\n",
            "  Attempting uninstall: typing-extensions\n",
            "    Found existing installation: typing_extensions 4.5.0\n",
            "    Uninstalling typing_extensions-4.5.0:\n",
            "      Successfully uninstalled typing_extensions-4.5.0\n",
            "  Attempting uninstall: cython\n",
            "    Found existing installation: Cython 3.0.6\n",
            "    Uninstalling Cython-3.0.6:\n",
            "      Successfully uninstalled Cython-3.0.6\n",
            "  Attempting uninstall: beautifulsoup4\n",
            "    Found existing installation: beautifulsoup4 4.11.2\n",
            "    Uninstalling beautifulsoup4-4.11.2:\n",
            "      Successfully uninstalled beautifulsoup4-4.11.2\n",
            "\u001b[31mERROR: pip's dependency resolver does not currently take into account all the packages that are installed. This behaviour is the source of the following dependency conflicts.\n",
            "lida 0.0.10 requires fastapi, which is not installed.\n",
            "lida 0.0.10 requires kaleido, which is not installed.\n",
            "lida 0.0.10 requires python-multipart, which is not installed.\n",
            "llmx 0.0.15a0 requires cohere, which is not installed.\n",
            "tensorflow-probability 0.22.0 requires typing-extensions<4.6.0, but you have typing-extensions 4.9.0 which is incompatible.\u001b[0m\u001b[31m\n",
            "\u001b[0mSuccessfully installed aiostream-0.5.2 arize-phoenix-1.9.0 beautifulsoup4-4.12.2 cython-0.29.37 dataclasses-json-0.6.3 ddsketch-2.0.4 deprecated-1.2.14 graphql-core-3.2.3 h11-0.14.0 hdbscan-0.8.33 httpcore-1.0.2 httpx-0.25.2 llama-index-0.9.13 marshmallow-3.20.1 mypy-extensions-1.0.0 openai-1.6.0 pynndescent-0.5.11 starlette-0.34.0 strawberry-graphql-0.208.2 tiktoken-0.5.2 typing-extensions-4.9.0 typing-inspect-0.9.0 umap-learn-0.5.5 uvicorn-0.24.0.post1\n"
          ]
        }
      ],
      "source": [
        "!pip install \"openai>=1\" \"arize-phoenix[llama-index]\""
      ]
    },
    {
      "cell_type": "markdown",
      "metadata": {
        "collapsed": false,
        "pycharm": {
          "name": "#%% md\n"
        },
        "id": "yaLyKuIueWOB"
      },
      "source": [
        "Import libraries."
      ]
    },
    {
      "cell_type": "code",
      "execution_count": 2,
      "metadata": {
        "id": "F4aMSpF_eWOD"
      },
      "outputs": [],
      "source": [
        "import os\n",
        "from getpass import getpass\n",
        "\n",
        "import openai\n",
        "import pandas as pd\n",
        "import phoenix as px\n",
        "from llama_index.agent import OpenAIAgent\n",
        "from llama_index.callbacks import CallbackManager\n",
        "from llama_index.llms import OpenAI\n",
        "from llama_index.prompts.system import SHAKESPEARE_WRITING_ASSISTANT\n",
        "from llama_index.tools import FunctionTool\n",
        "from phoenix.trace.llama_index import (\n",
        "    OpenInferenceTraceCallbackHandler,\n",
        ")\n",
        "\n",
        "pd.set_option(\"display.max_colwidth\", 1000)"
      ]
    },
    {
      "cell_type": "markdown",
      "metadata": {
        "pycharm": {
          "name": "#%% md\n"
        },
        "id": "bafuT0tceWOF"
      },
      "source": [
        "You can run Phoenix in the background to collect trace data emitted by any LlamaIndex application that has been instrumented with the `OpenInferenceTraceCallbackHandler`.\n",
        "\n",
        "Launch Phoenix and follow the instructions in the cell output to open the Phoenix UI (the UI should be empty because we have yet to run a LlamaIndex application)."
      ]
    },
    {
      "cell_type": "code",
      "execution_count": 3,
      "metadata": {
        "id": "lsPsbb_1eWOG",
        "outputId": "dab67ec5-2663-4c2c-cfea-ca8018e26755",
        "colab": {
          "base_uri": "https://localhost:8080/",
          "height": 69
        }
      },
      "outputs": [
        {
          "output_type": "stream",
          "name": "stdout",
          "text": [
            "🌍 To view the Phoenix app in your browser, visit https://ndmcdelk8881-496ff2e9c6d22116-6006-colab.googleusercontent.com/\n",
            "📺 To view the Phoenix app in a notebook, run `px.active_session().view()`\n",
            "📖 For more information on how to use Phoenix, check out https://docs.arize.com/phoenix\n"
          ]
        }
      ],
      "source": [
        "session = px.launch_app()"
      ]
    },
    {
      "cell_type": "markdown",
      "metadata": {
        "pycharm": {
          "name": "#%% md\n"
        },
        "id": "CxeuBH_HeWOI"
      },
      "source": [
        "Let’s start by importing some building blocks and defining tools that our agent can use"
      ]
    },
    {
      "cell_type": "code",
      "execution_count": 4,
      "metadata": {
        "id": "ocPvrysveWOK"
      },
      "outputs": [],
      "source": [
        "def multiply(a: int, b: int) -> int:\n",
        "    \"\"\"Multiple two integers and returns the result integer\"\"\"\n",
        "    return a * b\n",
        "\n",
        "\n",
        "multiply_tool = FunctionTool.from_defaults(fn=multiply)\n",
        "\n",
        "\n",
        "def add(a: int, b: int) -> int:\n",
        "    \"\"\"Add two integers and returns the result integer\"\"\"\n",
        "    return a + b\n",
        "\n",
        "\n",
        "add_tool = FunctionTool.from_defaults(fn=add)"
      ]
    },
    {
      "cell_type": "markdown",
      "metadata": {
        "collapsed": false,
        "pycharm": {
          "name": "#%% md\n"
        },
        "id": "11mcbv_YeWOM"
      },
      "source": [
        "Provide your API keys to access Open AI"
      ]
    },
    {
      "cell_type": "code",
      "execution_count": 5,
      "metadata": {
        "id": "5UH_NPZDeWON",
        "outputId": "acf8eb5b-e0c0-4c41-d1b7-85e2efcbb566",
        "colab": {
          "base_uri": "https://localhost:8080/"
        }
      },
      "outputs": [
        {
          "name": "stdout",
          "output_type": "stream",
          "text": [
            "🔑 Enter your OpenAI API key: ··········\n"
          ]
        }
      ],
      "source": [
        "if not (openai_api_key := os.getenv(\"OPENAI_API_KEY\")):\n",
        "    openai_api_key = getpass(\"🔑 Enter your OpenAI API key: \")\n",
        "openai.api_key = openai_api_key\n",
        "os.environ[\"OPENAI_API_KEY\"] = openai_api_key"
      ]
    },
    {
      "cell_type": "markdown",
      "metadata": {
        "pycharm": {
          "name": "#%% md\n"
        },
        "id": "2fbx8XBHeWOP"
      },
      "source": [
        "Now, we define our agent that’s capable of holding a conversation and calling tools.\n",
        "\n",
        "The meat of the agent logic is in the chat method. At a high-level, there are 3 steps:\n",
        "\n",
        "- Call OpenAI to decide which tool (if any) to call and with what arguments.\n",
        "\n",
        "- Call the tool with the arguments to obtain an output\n",
        "\n",
        "- Call OpenAI to synthesize a response from the conversation context and the tool output.\n",
        "\n",
        "The reset method resets the conversation context, so we can start another conversation.\n",
        "\n",
        "For fun, let's make the agent chat in the style of Shakespeare."
      ]
    },
    {
      "cell_type": "code",
      "execution_count": 6,
      "metadata": {
        "id": "PsxMQoLdeWOP"
      },
      "outputs": [],
      "source": [
        "llm = OpenAI(model=\"gpt-3.5-turbo-0613\")\n",
        "callback_handler = OpenInferenceTraceCallbackHandler()\n",
        "callback_manager = CallbackManager(handlers=[callback_handler])\n",
        "agent = OpenAIAgent.from_tools(\n",
        "    [multiply_tool, add_tool],\n",
        "    llm=llm,\n",
        "    callback_manager=callback_manager,\n",
        "    system_prompt=SHAKESPEARE_WRITING_ASSISTANT,\n",
        ")"
      ]
    },
    {
      "cell_type": "markdown",
      "metadata": {
        "pycharm": {
          "name": "#%% md\n"
        },
        "id": "xe4I5_lNeWOQ"
      },
      "source": [
        "Let's now chat with our agent!"
      ]
    },
    {
      "cell_type": "code",
      "execution_count": 7,
      "metadata": {
        "id": "VKKCJOLOeWOR",
        "outputId": "95e615fe-30c6-41e3-98e1-b435433b69cf",
        "colab": {
          "base_uri": "https://localhost:8080/"
        }
      },
      "outputs": [
        {
          "output_type": "stream",
          "name": "stdout",
          "text": [
            "The result of (121 * 3) + 42 is 405.\n"
          ]
        }
      ],
      "source": [
        "response = agent.query(\"What is (121 * 3) + 42?\")\n",
        "print(response)"
      ]
    },
    {
      "cell_type": "markdown",
      "metadata": {
        "pycharm": {
          "name": "#%% md\n"
        },
        "id": "p7PiiZRgeWOR"
      },
      "source": [
        "Let's chat with our agent a few more times. This time with some follow-up questions."
      ]
    },
    {
      "cell_type": "code",
      "execution_count": 8,
      "metadata": {
        "id": "uQ2LvaI9eWOS",
        "outputId": "1feaec94-6bca-40ec-b7b1-23162e5e25c5",
        "colab": {
          "base_uri": "https://localhost:8080/"
        }
      },
      "outputs": [
        {
          "output_type": "stream",
          "name": "stdout",
          "text": [
            "> What is (121 * 3) + 42?\n",
            "The result of (121 * 3) + 42 is 405.\n",
            "---\n",
            "> what is 3 * 3?\n",
            "The product of 3 multiplied by 3 is 9.\n",
            "---\n",
            "> what is 4 * 4?\n",
            "Four times four equals sixteen.\n",
            "---\n",
            "> what is 75 * (3 + 4)?\n",
            "The result of 75 multiplied by the sum of 3 and 4 is 525.\n",
            "---\n",
            "> what is 23 times 87\n",
            "The product of 23 times 87 is 2001.\n",
            "---\n"
          ]
        }
      ],
      "source": [
        "queries = [\n",
        "    \"What is (121 * 3) + 42?\",\n",
        "    \"what is 3 * 3?\",\n",
        "    \"what is 4 * 4?\",\n",
        "    \"what is 75 * (3 + 4)?\",\n",
        "    \"what is 23 times 87\",\n",
        "]\n",
        "\n",
        "for query in queries:\n",
        "    print(f\"> {query}\")\n",
        "    response = agent.query(query)\n",
        "    print(response)\n",
        "    agent.reset()\n",
        "    print(\"---\")"
      ]
    },
    {
      "cell_type": "markdown",
      "metadata": {
        "pycharm": {
          "name": "#%% md\n"
        },
        "id": "QbRI-wMTeWOT"
      },
      "source": [
        "Open the `session.url` in your browser to take a look at the traces in Phoenix. Note that LLM spans contain the OpenAI function calls, and that we can inspect what tool the LLM picked based on the queries.\n",
        "\n",
        "To learn more about function calling, check out the [OpenAI API docs](https://openai.com/blog/function-calling-and-other-api-updates).\n"
      ]
    },
    {
      "cell_type": "code",
      "execution_count": 9,
      "metadata": {
        "id": "nb1iNRh9eWOU",
        "outputId": "1634a7c8-3d78-4ae1-f5c0-25f9c58edb3d",
        "colab": {
          "base_uri": "https://localhost:8080/",
          "height": 34
        }
      },
      "outputs": [
        {
          "output_type": "stream",
          "name": "stdout",
          "text": [
            "Open the Phoenix UI if you haven't already: https://ndmcdelk8882-496ff2e9c6d22116-6006-colab.googleusercontent.com/\n"
          ]
        }
      ],
      "source": [
        "print(f\"Open the Phoenix UI if you haven't already: {session.url}\")"
      ]
    },
    {
      "cell_type": "markdown",
      "metadata": {
        "pycharm": {
          "name": "#%% md\n"
        },
        "id": "24-xq3UheWOU"
      },
      "source": [
        "We can also inspect the agent's chat history as a dataframe."
      ]
    },
    {
      "cell_type": "code",
      "execution_count": 10,
      "metadata": {
        "id": "oFMX4FTYeWOV",
        "outputId": "790d81ca-2559-4c76-d061-f6428705b8af",
        "colab": {
          "base_uri": "https://localhost:8080/",
          "height": 1000
        }
      },
      "outputs": [
        {
          "output_type": "execute_result",
          "data": {
            "text/plain": [
              "            name span_kind                             parent_id  \\\n",
              "0     agent_step     AGENT                                  None   \n",
              "1            llm       LLM  0342a3bf-09fe-4bf7-833c-59781b2af1eb   \n",
              "2  function_call      TOOL  0342a3bf-09fe-4bf7-833c-59781b2af1eb   \n",
              "3            llm       LLM  0342a3bf-09fe-4bf7-833c-59781b2af1eb   \n",
              "4  function_call      TOOL  0342a3bf-09fe-4bf7-833c-59781b2af1eb   \n",
              "\n",
              "                        start_time                         end_time  \\\n",
              "0 2023-12-20 00:52:13.536324+00:00 2023-12-20 00:52:16.393546+00:00   \n",
              "1 2023-12-20 00:52:15.443956+00:00 2023-12-20 00:52:16.393426+00:00   \n",
              "2 2023-12-20 00:52:15.443622+00:00 2023-12-20 00:52:15.443725+00:00   \n",
              "3 2023-12-20 00:52:14.560922+00:00 2023-12-20 00:52:15.443354+00:00   \n",
              "4 2023-12-20 00:52:14.560458+00:00 2023-12-20 00:52:14.560676+00:00   \n",
              "\n",
              "  status_code status_message events conversation  \\\n",
              "0          OK                    []         None   \n",
              "1          OK                    []         None   \n",
              "2          OK                    []         None   \n",
              "3          OK                    []         None   \n",
              "4          OK                    []         None   \n",
              "\n",
              "                       context.trace_id  ...  \\\n",
              "0  440273de-1e26-495a-9b09-36b9c1fadd39  ...   \n",
              "1  440273de-1e26-495a-9b09-36b9c1fadd39  ...   \n",
              "2  440273de-1e26-495a-9b09-36b9c1fadd39  ...   \n",
              "3  440273de-1e26-495a-9b09-36b9c1fadd39  ...   \n",
              "4  440273de-1e26-495a-9b09-36b9c1fadd39  ...   \n",
              "\n",
              "                                                                                                                                                                                                                                                                                                                                                                                                                                                                                                                                                                                                                                                                                                                                                                                                                                                                                                                                                                                                             attributes.llm.input_messages  \\\n",
              "0                                                                                                                                                                                                                                                                                                                                                                                                                                                                                                                                                                                                                                                                                                                                                                                                                                                                                                                                                                                                                                      NaN   \n",
              "1  [{'message.role': 'system', 'message.content': 'You are a Shakespearean writing assistant who speaks in a Shakespearean style. You help people come up with creative ideas and content like stories, poems, and songs that use Shakespearean style of writing style, including words like \"thou\" and \"hath”.\n",
              "Here are some example of Shakespeare's style:\n",
              " - Romeo, Romeo! Wherefore art thou Romeo?\n",
              " - Love looks not with the eyes, but with the mind; and therefore is winged Cupid painted blind.\n",
              " - Shall I compare thee to a summer's day? Thou art more lovely and more temperate.\n",
              "'}, {'message.role': 'user', 'message.content': 'What is (121 * 3) + 42?'}, {'message.role': 'assistant', 'message.content': None, 'message.tool_calls': [{'tool_call.function.name': 'multiply', 'tool_call.function.arguments': '{\\n  \"a\": 121,\\n  \"b\": 3\\n}'}]}, {'message.role': 'tool', 'message.content': '363', 'message.name': 'multiply'}, {'message.role': 'assistant', 'message.content': None, 'message.tool_calls': [{'tool_...   \n",
              "2                                                                                                                                                                                                                                                                                                                                                                                                                                                                                                                                                                                                                                                                                                                                                                                                                                                                                                                                                                                                                                      NaN   \n",
              "3                                                                                           [{'message.role': 'system', 'message.content': 'You are a Shakespearean writing assistant who speaks in a Shakespearean style. You help people come up with creative ideas and content like stories, poems, and songs that use Shakespearean style of writing style, including words like \"thou\" and \"hath”.\n",
              "Here are some example of Shakespeare's style:\n",
              " - Romeo, Romeo! Wherefore art thou Romeo?\n",
              " - Love looks not with the eyes, but with the mind; and therefore is winged Cupid painted blind.\n",
              " - Shall I compare thee to a summer's day? Thou art more lovely and more temperate.\n",
              "'}, {'message.role': 'user', 'message.content': 'What is (121 * 3) + 42?'}, {'message.role': 'assistant', 'message.content': None, 'message.tool_calls': [{'tool_call.function.name': 'multiply', 'tool_call.function.arguments': '{\\n  \"a\": 121,\\n  \"b\": 3\\n}'}]}, {'message.role': 'tool', 'message.content': '363', 'message.name': 'multiply'}]   \n",
              "4                                                                                                                                                                                                                                                                                                                                                                                                                                                                                                                                                                                                                                                                                                                                                                                                                                                                                                                                                                                                                                      NaN   \n",
              "\n",
              "  attributes.llm.model_name  \\\n",
              "0                       NaN   \n",
              "1        gpt-3.5-turbo-0613   \n",
              "2                       NaN   \n",
              "3        gpt-3.5-turbo-0613   \n",
              "4                       NaN   \n",
              "\n",
              "                                      attributes.llm.invocation_parameters  \\\n",
              "0                                                                      NaN   \n",
              "1  {\"model\": \"gpt-3.5-turbo-0613\", \"temperature\": 0.1, \"max_tokens\": null}   \n",
              "2                                                                      NaN   \n",
              "3  {\"model\": \"gpt-3.5-turbo-0613\", \"temperature\": 0.1, \"max_tokens\": null}   \n",
              "4                                                                      NaN   \n",
              "\n",
              "                                                                                                                                attributes.llm.output_messages  \\\n",
              "0                                                                                                                                                          NaN   \n",
              "1                                                                   [{'message.role': 'assistant', 'message.content': 'The result of (121 * 3) + 42 is 405.'}]   \n",
              "2                                                                                                                                                          NaN   \n",
              "3  [{'message.role': 'assistant', 'message.tool_calls': [{'tool_call.function.name': 'add', 'tool_call.function.arguments': '{\\n  \"a\": 363,\\n  \"b\": 42\\n}'}]}]   \n",
              "4                                                                                                                                                          NaN   \n",
              "\n",
              "  attributes.llm.token_count.prompt attributes.llm.token_count.completion  \\\n",
              "0                               NaN                                   NaN   \n",
              "1                             292.0                                  17.0   \n",
              "2                               NaN                                   NaN   \n",
              "3                             263.0                                  21.0   \n",
              "4                               NaN                                   NaN   \n",
              "\n",
              "  attributes.llm.token_count.total attributes.tool.name  \\\n",
              "0                              NaN                  NaN   \n",
              "1                            309.0                  NaN   \n",
              "2                              NaN                  add   \n",
              "3                            284.0                  NaN   \n",
              "4                              NaN             multiply   \n",
              "\n",
              "                                                             attributes.tool.description  \\\n",
              "0                                                                                    NaN   \n",
              "1                                                                                    NaN   \n",
              "2            add(a: int, b: int) -> int\\nAdd two integers and returns the result integer   \n",
              "3                                                                                    NaN   \n",
              "4  multiply(a: int, b: int) -> int\\nMultiple two integers and returns the result integer   \n",
              "\n",
              "                                                                                                                                        attributes.tool.parameters  \n",
              "0                                                                                                                                                              NaN  \n",
              "1                                                                                                                                                              NaN  \n",
              "2       {'title': 'add', 'type': 'object', 'properties': {'a': {'title': 'A', 'type': 'integer'}, 'b': {'title': 'B', 'type': 'integer'}}, 'required': ['a', 'b']}  \n",
              "3                                                                                                                                                              NaN  \n",
              "4  {'title': 'multiply', 'type': 'object', 'properties': {'a': {'title': 'A', 'type': 'integer'}, 'b': {'title': 'B', 'type': 'integer'}}, 'required': ['a', 'b']}  \n",
              "\n",
              "[5 rows x 24 columns]"
            ],
            "text/html": [
              "\n",
              "  <div id=\"df-c13db46d-b539-485d-a7c8-d413f8be1e0b\" class=\"colab-df-container\">\n",
              "    <div>\n",
              "<style scoped>\n",
              "    .dataframe tbody tr th:only-of-type {\n",
              "        vertical-align: middle;\n",
              "    }\n",
              "\n",
              "    .dataframe tbody tr th {\n",
              "        vertical-align: top;\n",
              "    }\n",
              "\n",
              "    .dataframe thead th {\n",
              "        text-align: right;\n",
              "    }\n",
              "</style>\n",
              "<table border=\"1\" class=\"dataframe\">\n",
              "  <thead>\n",
              "    <tr style=\"text-align: right;\">\n",
              "      <th></th>\n",
              "      <th>name</th>\n",
              "      <th>span_kind</th>\n",
              "      <th>parent_id</th>\n",
              "      <th>start_time</th>\n",
              "      <th>end_time</th>\n",
              "      <th>status_code</th>\n",
              "      <th>status_message</th>\n",
              "      <th>events</th>\n",
              "      <th>conversation</th>\n",
              "      <th>context.trace_id</th>\n",
              "      <th>...</th>\n",
              "      <th>attributes.llm.input_messages</th>\n",
              "      <th>attributes.llm.model_name</th>\n",
              "      <th>attributes.llm.invocation_parameters</th>\n",
              "      <th>attributes.llm.output_messages</th>\n",
              "      <th>attributes.llm.token_count.prompt</th>\n",
              "      <th>attributes.llm.token_count.completion</th>\n",
              "      <th>attributes.llm.token_count.total</th>\n",
              "      <th>attributes.tool.name</th>\n",
              "      <th>attributes.tool.description</th>\n",
              "      <th>attributes.tool.parameters</th>\n",
              "    </tr>\n",
              "  </thead>\n",
              "  <tbody>\n",
              "    <tr>\n",
              "      <th>0</th>\n",
              "      <td>agent_step</td>\n",
              "      <td>AGENT</td>\n",
              "      <td>None</td>\n",
              "      <td>2023-12-20 00:52:13.536324+00:00</td>\n",
              "      <td>2023-12-20 00:52:16.393546+00:00</td>\n",
              "      <td>OK</td>\n",
              "      <td></td>\n",
              "      <td>[]</td>\n",
              "      <td>None</td>\n",
              "      <td>440273de-1e26-495a-9b09-36b9c1fadd39</td>\n",
              "      <td>...</td>\n",
              "      <td>NaN</td>\n",
              "      <td>NaN</td>\n",
              "      <td>NaN</td>\n",
              "      <td>NaN</td>\n",
              "      <td>NaN</td>\n",
              "      <td>NaN</td>\n",
              "      <td>NaN</td>\n",
              "      <td>NaN</td>\n",
              "      <td>NaN</td>\n",
              "      <td>NaN</td>\n",
              "    </tr>\n",
              "    <tr>\n",
              "      <th>1</th>\n",
              "      <td>llm</td>\n",
              "      <td>LLM</td>\n",
              "      <td>0342a3bf-09fe-4bf7-833c-59781b2af1eb</td>\n",
              "      <td>2023-12-20 00:52:15.443956+00:00</td>\n",
              "      <td>2023-12-20 00:52:16.393426+00:00</td>\n",
              "      <td>OK</td>\n",
              "      <td></td>\n",
              "      <td>[]</td>\n",
              "      <td>None</td>\n",
              "      <td>440273de-1e26-495a-9b09-36b9c1fadd39</td>\n",
              "      <td>...</td>\n",
              "      <td>[{'message.role': 'system', 'message.content': 'You are a Shakespearean writing assistant who speaks in a Shakespearean style. You help people come up with creative ideas and content like stories, poems, and songs that use Shakespearean style of writing style, including words like \"thou\" and \"hath”.\n",
              "Here are some example of Shakespeare's style:\n",
              " - Romeo, Romeo! Wherefore art thou Romeo?\n",
              " - Love looks not with the eyes, but with the mind; and therefore is winged Cupid painted blind.\n",
              " - Shall I compare thee to a summer's day? Thou art more lovely and more temperate.\n",
              "'}, {'message.role': 'user', 'message.content': 'What is (121 * 3) + 42?'}, {'message.role': 'assistant', 'message.content': None, 'message.tool_calls': [{'tool_call.function.name': 'multiply', 'tool_call.function.arguments': '{\\n  \"a\": 121,\\n  \"b\": 3\\n}'}]}, {'message.role': 'tool', 'message.content': '363', 'message.name': 'multiply'}, {'message.role': 'assistant', 'message.content': None, 'message.tool_calls': [{'tool_...</td>\n",
              "      <td>gpt-3.5-turbo-0613</td>\n",
              "      <td>{\"model\": \"gpt-3.5-turbo-0613\", \"temperature\": 0.1, \"max_tokens\": null}</td>\n",
              "      <td>[{'message.role': 'assistant', 'message.content': 'The result of (121 * 3) + 42 is 405.'}]</td>\n",
              "      <td>292.0</td>\n",
              "      <td>17.0</td>\n",
              "      <td>309.0</td>\n",
              "      <td>NaN</td>\n",
              "      <td>NaN</td>\n",
              "      <td>NaN</td>\n",
              "    </tr>\n",
              "    <tr>\n",
              "      <th>2</th>\n",
              "      <td>function_call</td>\n",
              "      <td>TOOL</td>\n",
              "      <td>0342a3bf-09fe-4bf7-833c-59781b2af1eb</td>\n",
              "      <td>2023-12-20 00:52:15.443622+00:00</td>\n",
              "      <td>2023-12-20 00:52:15.443725+00:00</td>\n",
              "      <td>OK</td>\n",
              "      <td></td>\n",
              "      <td>[]</td>\n",
              "      <td>None</td>\n",
              "      <td>440273de-1e26-495a-9b09-36b9c1fadd39</td>\n",
              "      <td>...</td>\n",
              "      <td>NaN</td>\n",
              "      <td>NaN</td>\n",
              "      <td>NaN</td>\n",
              "      <td>NaN</td>\n",
              "      <td>NaN</td>\n",
              "      <td>NaN</td>\n",
              "      <td>NaN</td>\n",
              "      <td>add</td>\n",
              "      <td>add(a: int, b: int) -&gt; int\\nAdd two integers and returns the result integer</td>\n",
              "      <td>{'title': 'add', 'type': 'object', 'properties': {'a': {'title': 'A', 'type': 'integer'}, 'b': {'title': 'B', 'type': 'integer'}}, 'required': ['a', 'b']}</td>\n",
              "    </tr>\n",
              "    <tr>\n",
              "      <th>3</th>\n",
              "      <td>llm</td>\n",
              "      <td>LLM</td>\n",
              "      <td>0342a3bf-09fe-4bf7-833c-59781b2af1eb</td>\n",
              "      <td>2023-12-20 00:52:14.560922+00:00</td>\n",
              "      <td>2023-12-20 00:52:15.443354+00:00</td>\n",
              "      <td>OK</td>\n",
              "      <td></td>\n",
              "      <td>[]</td>\n",
              "      <td>None</td>\n",
              "      <td>440273de-1e26-495a-9b09-36b9c1fadd39</td>\n",
              "      <td>...</td>\n",
              "      <td>[{'message.role': 'system', 'message.content': 'You are a Shakespearean writing assistant who speaks in a Shakespearean style. You help people come up with creative ideas and content like stories, poems, and songs that use Shakespearean style of writing style, including words like \"thou\" and \"hath”.\n",
              "Here are some example of Shakespeare's style:\n",
              " - Romeo, Romeo! Wherefore art thou Romeo?\n",
              " - Love looks not with the eyes, but with the mind; and therefore is winged Cupid painted blind.\n",
              " - Shall I compare thee to a summer's day? Thou art more lovely and more temperate.\n",
              "'}, {'message.role': 'user', 'message.content': 'What is (121 * 3) + 42?'}, {'message.role': 'assistant', 'message.content': None, 'message.tool_calls': [{'tool_call.function.name': 'multiply', 'tool_call.function.arguments': '{\\n  \"a\": 121,\\n  \"b\": 3\\n}'}]}, {'message.role': 'tool', 'message.content': '363', 'message.name': 'multiply'}]</td>\n",
              "      <td>gpt-3.5-turbo-0613</td>\n",
              "      <td>{\"model\": \"gpt-3.5-turbo-0613\", \"temperature\": 0.1, \"max_tokens\": null}</td>\n",
              "      <td>[{'message.role': 'assistant', 'message.tool_calls': [{'tool_call.function.name': 'add', 'tool_call.function.arguments': '{\\n  \"a\": 363,\\n  \"b\": 42\\n}'}]}]</td>\n",
              "      <td>263.0</td>\n",
              "      <td>21.0</td>\n",
              "      <td>284.0</td>\n",
              "      <td>NaN</td>\n",
              "      <td>NaN</td>\n",
              "      <td>NaN</td>\n",
              "    </tr>\n",
              "    <tr>\n",
              "      <th>4</th>\n",
              "      <td>function_call</td>\n",
              "      <td>TOOL</td>\n",
              "      <td>0342a3bf-09fe-4bf7-833c-59781b2af1eb</td>\n",
              "      <td>2023-12-20 00:52:14.560458+00:00</td>\n",
              "      <td>2023-12-20 00:52:14.560676+00:00</td>\n",
              "      <td>OK</td>\n",
              "      <td></td>\n",
              "      <td>[]</td>\n",
              "      <td>None</td>\n",
              "      <td>440273de-1e26-495a-9b09-36b9c1fadd39</td>\n",
              "      <td>...</td>\n",
              "      <td>NaN</td>\n",
              "      <td>NaN</td>\n",
              "      <td>NaN</td>\n",
              "      <td>NaN</td>\n",
              "      <td>NaN</td>\n",
              "      <td>NaN</td>\n",
              "      <td>NaN</td>\n",
              "      <td>multiply</td>\n",
              "      <td>multiply(a: int, b: int) -&gt; int\\nMultiple two integers and returns the result integer</td>\n",
              "      <td>{'title': 'multiply', 'type': 'object', 'properties': {'a': {'title': 'A', 'type': 'integer'}, 'b': {'title': 'B', 'type': 'integer'}}, 'required': ['a', 'b']}</td>\n",
              "    </tr>\n",
              "  </tbody>\n",
              "</table>\n",
              "<p>5 rows × 24 columns</p>\n",
              "</div>\n",
              "    <div class=\"colab-df-buttons\">\n",
              "\n",
              "  <div class=\"colab-df-container\">\n",
              "    <button class=\"colab-df-convert\" onclick=\"convertToInteractive('df-c13db46d-b539-485d-a7c8-d413f8be1e0b')\"\n",
              "            title=\"Convert this dataframe to an interactive table.\"\n",
              "            style=\"display:none;\">\n",
              "\n",
              "  <svg xmlns=\"http://www.w3.org/2000/svg\" height=\"24px\" viewBox=\"0 -960 960 960\">\n",
              "    <path d=\"M120-120v-720h720v720H120Zm60-500h600v-160H180v160Zm220 220h160v-160H400v160Zm0 220h160v-160H400v160ZM180-400h160v-160H180v160Zm440 0h160v-160H620v160ZM180-180h160v-160H180v160Zm440 0h160v-160H620v160Z\"/>\n",
              "  </svg>\n",
              "    </button>\n",
              "\n",
              "  <style>\n",
              "    .colab-df-container {\n",
              "      display:flex;\n",
              "      gap: 12px;\n",
              "    }\n",
              "\n",
              "    .colab-df-convert {\n",
              "      background-color: #E8F0FE;\n",
              "      border: none;\n",
              "      border-radius: 50%;\n",
              "      cursor: pointer;\n",
              "      display: none;\n",
              "      fill: #1967D2;\n",
              "      height: 32px;\n",
              "      padding: 0 0 0 0;\n",
              "      width: 32px;\n",
              "    }\n",
              "\n",
              "    .colab-df-convert:hover {\n",
              "      background-color: #E2EBFA;\n",
              "      box-shadow: 0px 1px 2px rgba(60, 64, 67, 0.3), 0px 1px 3px 1px rgba(60, 64, 67, 0.15);\n",
              "      fill: #174EA6;\n",
              "    }\n",
              "\n",
              "    .colab-df-buttons div {\n",
              "      margin-bottom: 4px;\n",
              "    }\n",
              "\n",
              "    [theme=dark] .colab-df-convert {\n",
              "      background-color: #3B4455;\n",
              "      fill: #D2E3FC;\n",
              "    }\n",
              "\n",
              "    [theme=dark] .colab-df-convert:hover {\n",
              "      background-color: #434B5C;\n",
              "      box-shadow: 0px 1px 3px 1px rgba(0, 0, 0, 0.15);\n",
              "      filter: drop-shadow(0px 1px 2px rgba(0, 0, 0, 0.3));\n",
              "      fill: #FFFFFF;\n",
              "    }\n",
              "  </style>\n",
              "\n",
              "    <script>\n",
              "      const buttonEl =\n",
              "        document.querySelector('#df-c13db46d-b539-485d-a7c8-d413f8be1e0b button.colab-df-convert');\n",
              "      buttonEl.style.display =\n",
              "        google.colab.kernel.accessAllowed ? 'block' : 'none';\n",
              "\n",
              "      async function convertToInteractive(key) {\n",
              "        const element = document.querySelector('#df-c13db46d-b539-485d-a7c8-d413f8be1e0b');\n",
              "        const dataTable =\n",
              "          await google.colab.kernel.invokeFunction('convertToInteractive',\n",
              "                                                    [key], {});\n",
              "        if (!dataTable) return;\n",
              "\n",
              "        const docLinkHtml = 'Like what you see? Visit the ' +\n",
              "          '<a target=\"_blank\" href=https://colab.research.google.com/notebooks/data_table.ipynb>data table notebook</a>'\n",
              "          + ' to learn more about interactive tables.';\n",
              "        element.innerHTML = '';\n",
              "        dataTable['output_type'] = 'display_data';\n",
              "        await google.colab.output.renderOutput(dataTable, element);\n",
              "        const docLink = document.createElement('div');\n",
              "        docLink.innerHTML = docLinkHtml;\n",
              "        element.appendChild(docLink);\n",
              "      }\n",
              "    </script>\n",
              "  </div>\n",
              "\n",
              "\n",
              "<div id=\"df-b55fcb69-a4aa-451a-b769-b2eefb74a33a\">\n",
              "  <button class=\"colab-df-quickchart\" onclick=\"quickchart('df-b55fcb69-a4aa-451a-b769-b2eefb74a33a')\"\n",
              "            title=\"Suggest charts\"\n",
              "            style=\"display:none;\">\n",
              "\n",
              "<svg xmlns=\"http://www.w3.org/2000/svg\" height=\"24px\"viewBox=\"0 0 24 24\"\n",
              "     width=\"24px\">\n",
              "    <g>\n",
              "        <path d=\"M19 3H5c-1.1 0-2 .9-2 2v14c0 1.1.9 2 2 2h14c1.1 0 2-.9 2-2V5c0-1.1-.9-2-2-2zM9 17H7v-7h2v7zm4 0h-2V7h2v10zm4 0h-2v-4h2v4z\"/>\n",
              "    </g>\n",
              "</svg>\n",
              "  </button>\n",
              "\n",
              "<style>\n",
              "  .colab-df-quickchart {\n",
              "      --bg-color: #E8F0FE;\n",
              "      --fill-color: #1967D2;\n",
              "      --hover-bg-color: #E2EBFA;\n",
              "      --hover-fill-color: #174EA6;\n",
              "      --disabled-fill-color: #AAA;\n",
              "      --disabled-bg-color: #DDD;\n",
              "  }\n",
              "\n",
              "  [theme=dark] .colab-df-quickchart {\n",
              "      --bg-color: #3B4455;\n",
              "      --fill-color: #D2E3FC;\n",
              "      --hover-bg-color: #434B5C;\n",
              "      --hover-fill-color: #FFFFFF;\n",
              "      --disabled-bg-color: #3B4455;\n",
              "      --disabled-fill-color: #666;\n",
              "  }\n",
              "\n",
              "  .colab-df-quickchart {\n",
              "    background-color: var(--bg-color);\n",
              "    border: none;\n",
              "    border-radius: 50%;\n",
              "    cursor: pointer;\n",
              "    display: none;\n",
              "    fill: var(--fill-color);\n",
              "    height: 32px;\n",
              "    padding: 0;\n",
              "    width: 32px;\n",
              "  }\n",
              "\n",
              "  .colab-df-quickchart:hover {\n",
              "    background-color: var(--hover-bg-color);\n",
              "    box-shadow: 0 1px 2px rgba(60, 64, 67, 0.3), 0 1px 3px 1px rgba(60, 64, 67, 0.15);\n",
              "    fill: var(--button-hover-fill-color);\n",
              "  }\n",
              "\n",
              "  .colab-df-quickchart-complete:disabled,\n",
              "  .colab-df-quickchart-complete:disabled:hover {\n",
              "    background-color: var(--disabled-bg-color);\n",
              "    fill: var(--disabled-fill-color);\n",
              "    box-shadow: none;\n",
              "  }\n",
              "\n",
              "  .colab-df-spinner {\n",
              "    border: 2px solid var(--fill-color);\n",
              "    border-color: transparent;\n",
              "    border-bottom-color: var(--fill-color);\n",
              "    animation:\n",
              "      spin 1s steps(1) infinite;\n",
              "  }\n",
              "\n",
              "  @keyframes spin {\n",
              "    0% {\n",
              "      border-color: transparent;\n",
              "      border-bottom-color: var(--fill-color);\n",
              "      border-left-color: var(--fill-color);\n",
              "    }\n",
              "    20% {\n",
              "      border-color: transparent;\n",
              "      border-left-color: var(--fill-color);\n",
              "      border-top-color: var(--fill-color);\n",
              "    }\n",
              "    30% {\n",
              "      border-color: transparent;\n",
              "      border-left-color: var(--fill-color);\n",
              "      border-top-color: var(--fill-color);\n",
              "      border-right-color: var(--fill-color);\n",
              "    }\n",
              "    40% {\n",
              "      border-color: transparent;\n",
              "      border-right-color: var(--fill-color);\n",
              "      border-top-color: var(--fill-color);\n",
              "    }\n",
              "    60% {\n",
              "      border-color: transparent;\n",
              "      border-right-color: var(--fill-color);\n",
              "    }\n",
              "    80% {\n",
              "      border-color: transparent;\n",
              "      border-right-color: var(--fill-color);\n",
              "      border-bottom-color: var(--fill-color);\n",
              "    }\n",
              "    90% {\n",
              "      border-color: transparent;\n",
              "      border-bottom-color: var(--fill-color);\n",
              "    }\n",
              "  }\n",
              "</style>\n",
              "\n",
              "  <script>\n",
              "    async function quickchart(key) {\n",
              "      const quickchartButtonEl =\n",
              "        document.querySelector('#' + key + ' button');\n",
              "      quickchartButtonEl.disabled = true;  // To prevent multiple clicks.\n",
              "      quickchartButtonEl.classList.add('colab-df-spinner');\n",
              "      try {\n",
              "        const charts = await google.colab.kernel.invokeFunction(\n",
              "            'suggestCharts', [key], {});\n",
              "      } catch (error) {\n",
              "        console.error('Error during call to suggestCharts:', error);\n",
              "      }\n",
              "      quickchartButtonEl.classList.remove('colab-df-spinner');\n",
              "      quickchartButtonEl.classList.add('colab-df-quickchart-complete');\n",
              "    }\n",
              "    (() => {\n",
              "      let quickchartButtonEl =\n",
              "        document.querySelector('#df-b55fcb69-a4aa-451a-b769-b2eefb74a33a button');\n",
              "      quickchartButtonEl.style.display =\n",
              "        google.colab.kernel.accessAllowed ? 'block' : 'none';\n",
              "    })();\n",
              "  </script>\n",
              "</div>\n",
              "\n",
              "    </div>\n",
              "  </div>\n"
            ]
          },
          "metadata": {},
          "execution_count": 10
        }
      ],
      "source": [
        "ds = px.TraceDataset.from_spans(list(callback_handler.get_spans()))\n",
        "ds.dataframe.head()"
      ]
    }
  ],
  "metadata": {
    "language_info": {
      "name": "python"
    },
    "colab": {
      "provenance": []
    },
    "kernelspec": {
      "name": "python3",
      "display_name": "Python 3"
    }
  },
  "nbformat": 4,
  "nbformat_minor": 0
}